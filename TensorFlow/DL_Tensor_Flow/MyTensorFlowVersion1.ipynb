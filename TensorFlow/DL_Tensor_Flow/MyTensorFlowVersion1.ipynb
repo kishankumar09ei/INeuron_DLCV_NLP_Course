{
 "cells": [
  {
   "cell_type": "code",
   "execution_count": 1,
   "metadata": {},
   "outputs": [
    {
     "name": "stderr",
     "output_type": "stream",
     "text": [
      "C:\\Users\\Kishan\\Anaconda3\\envs\\tensorflow_1.x\\lib\\site-packages\\tensorflow\\python\\framework\\dtypes.py:516: FutureWarning: Passing (type, 1) or '1type' as a synonym of type is deprecated; in a future version of numpy, it will be understood as (type, (1,)) / '(1,)type'.\n",
      "  _np_qint8 = np.dtype([(\"qint8\", np.int8, 1)])\n",
      "C:\\Users\\Kishan\\Anaconda3\\envs\\tensorflow_1.x\\lib\\site-packages\\tensorflow\\python\\framework\\dtypes.py:517: FutureWarning: Passing (type, 1) or '1type' as a synonym of type is deprecated; in a future version of numpy, it will be understood as (type, (1,)) / '(1,)type'.\n",
      "  _np_quint8 = np.dtype([(\"quint8\", np.uint8, 1)])\n",
      "C:\\Users\\Kishan\\Anaconda3\\envs\\tensorflow_1.x\\lib\\site-packages\\tensorflow\\python\\framework\\dtypes.py:518: FutureWarning: Passing (type, 1) or '1type' as a synonym of type is deprecated; in a future version of numpy, it will be understood as (type, (1,)) / '(1,)type'.\n",
      "  _np_qint16 = np.dtype([(\"qint16\", np.int16, 1)])\n",
      "C:\\Users\\Kishan\\Anaconda3\\envs\\tensorflow_1.x\\lib\\site-packages\\tensorflow\\python\\framework\\dtypes.py:519: FutureWarning: Passing (type, 1) or '1type' as a synonym of type is deprecated; in a future version of numpy, it will be understood as (type, (1,)) / '(1,)type'.\n",
      "  _np_quint16 = np.dtype([(\"quint16\", np.uint16, 1)])\n",
      "C:\\Users\\Kishan\\Anaconda3\\envs\\tensorflow_1.x\\lib\\site-packages\\tensorflow\\python\\framework\\dtypes.py:520: FutureWarning: Passing (type, 1) or '1type' as a synonym of type is deprecated; in a future version of numpy, it will be understood as (type, (1,)) / '(1,)type'.\n",
      "  _np_qint32 = np.dtype([(\"qint32\", np.int32, 1)])\n",
      "C:\\Users\\Kishan\\Anaconda3\\envs\\tensorflow_1.x\\lib\\site-packages\\tensorflow\\python\\framework\\dtypes.py:525: FutureWarning: Passing (type, 1) or '1type' as a synonym of type is deprecated; in a future version of numpy, it will be understood as (type, (1,)) / '(1,)type'.\n",
      "  np_resource = np.dtype([(\"resource\", np.ubyte, 1)])\n",
      "C:\\Users\\Kishan\\Anaconda3\\envs\\tensorflow_1.x\\lib\\site-packages\\tensorboard\\compat\\tensorflow_stub\\dtypes.py:541: FutureWarning: Passing (type, 1) or '1type' as a synonym of type is deprecated; in a future version of numpy, it will be understood as (type, (1,)) / '(1,)type'.\n",
      "  _np_qint8 = np.dtype([(\"qint8\", np.int8, 1)])\n",
      "C:\\Users\\Kishan\\Anaconda3\\envs\\tensorflow_1.x\\lib\\site-packages\\tensorboard\\compat\\tensorflow_stub\\dtypes.py:542: FutureWarning: Passing (type, 1) or '1type' as a synonym of type is deprecated; in a future version of numpy, it will be understood as (type, (1,)) / '(1,)type'.\n",
      "  _np_quint8 = np.dtype([(\"quint8\", np.uint8, 1)])\n",
      "C:\\Users\\Kishan\\Anaconda3\\envs\\tensorflow_1.x\\lib\\site-packages\\tensorboard\\compat\\tensorflow_stub\\dtypes.py:543: FutureWarning: Passing (type, 1) or '1type' as a synonym of type is deprecated; in a future version of numpy, it will be understood as (type, (1,)) / '(1,)type'.\n",
      "  _np_qint16 = np.dtype([(\"qint16\", np.int16, 1)])\n",
      "C:\\Users\\Kishan\\Anaconda3\\envs\\tensorflow_1.x\\lib\\site-packages\\tensorboard\\compat\\tensorflow_stub\\dtypes.py:544: FutureWarning: Passing (type, 1) or '1type' as a synonym of type is deprecated; in a future version of numpy, it will be understood as (type, (1,)) / '(1,)type'.\n",
      "  _np_quint16 = np.dtype([(\"quint16\", np.uint16, 1)])\n",
      "C:\\Users\\Kishan\\Anaconda3\\envs\\tensorflow_1.x\\lib\\site-packages\\tensorboard\\compat\\tensorflow_stub\\dtypes.py:545: FutureWarning: Passing (type, 1) or '1type' as a synonym of type is deprecated; in a future version of numpy, it will be understood as (type, (1,)) / '(1,)type'.\n",
      "  _np_qint32 = np.dtype([(\"qint32\", np.int32, 1)])\n",
      "C:\\Users\\Kishan\\Anaconda3\\envs\\tensorflow_1.x\\lib\\site-packages\\tensorboard\\compat\\tensorflow_stub\\dtypes.py:550: FutureWarning: Passing (type, 1) or '1type' as a synonym of type is deprecated; in a future version of numpy, it will be understood as (type, (1,)) / '(1,)type'.\n",
      "  np_resource = np.dtype([(\"resource\", np.ubyte, 1)])\n"
     ]
    }
   ],
   "source": [
    "import tensorflow as tf"
   ]
  },
  {
   "cell_type": "code",
   "execution_count": 2,
   "metadata": {},
   "outputs": [
    {
     "data": {
      "text/plain": [
       "'1.14.0'"
      ]
     },
     "execution_count": 2,
     "metadata": {},
     "output_type": "execute_result"
    }
   ],
   "source": [
    "tf.__version__\n"
   ]
  },
  {
   "cell_type": "code",
   "execution_count": 3,
   "metadata": {},
   "outputs": [
    {
     "data": {
      "text/plain": [
       "'kishan'"
      ]
     },
     "execution_count": 3,
     "metadata": {},
     "output_type": "execute_result"
    }
   ],
   "source": [
    "a=\"kishan\"\n",
    "a#simple variable"
   ]
  },
  {
   "cell_type": "code",
   "execution_count": 4,
   "metadata": {},
   "outputs": [],
   "source": [
    "tf_constant=tf.constant(\"kishan\")"
   ]
  },
  {
   "cell_type": "code",
   "execution_count": 5,
   "metadata": {},
   "outputs": [
    {
     "data": {
      "text/plain": [
       "<tf.Tensor 'Const:0' shape=() dtype=string>"
      ]
     },
     "execution_count": 5,
     "metadata": {},
     "output_type": "execute_result"
    }
   ],
   "source": [
    "tf_constant"
   ]
  },
  {
   "cell_type": "code",
   "execution_count": 6,
   "metadata": {},
   "outputs": [
    {
     "name": "stdout",
     "output_type": "stream",
     "text": [
      "b'Hello word'\n"
     ]
    }
   ],
   "source": [
    "hello_world=tf.constant(\"Hello word\")\n",
    "\n",
    "with tf.Session() as sess:\n",
    "    #run the constant in this session\n",
    "    output=sess.run(hello_world)\n",
    "    print(output)"
   ]
  },
  {
   "cell_type": "code",
   "execution_count": 7,
   "metadata": {},
   "outputs": [
    {
     "name": "stdout",
     "output_type": "stream",
     "text": [
      "kishan\n"
     ]
    }
   ],
   "source": [
    "x=tf.placeholder(tf.string)\n",
    "\n",
    "\n",
    "with tf.Session() as sess1:\n",
    "    output=sess1.run(x,feed_dict={x:\"kishan\"})\n",
    "    print(output)"
   ]
  },
  {
   "cell_type": "code",
   "execution_count": 8,
   "metadata": {},
   "outputs": [],
   "source": [
    "x=tf.Variable(5)"
   ]
  },
  {
   "cell_type": "code",
   "execution_count": 14,
   "metadata": {},
   "outputs": [],
   "source": [
    "init=tf.global_variables_initializer()\n",
    "\n",
    "with tf.Session() as sess:\n",
    "    sess.run(init)"
   ]
  },
  {
   "cell_type": "code",
   "execution_count": 12,
   "metadata": {},
   "outputs": [
    {
     "data": {
      "text/plain": [
       "<tf.Variable 'Variable:0' shape=() dtype=int32_ref>"
      ]
     },
     "execution_count": 12,
     "metadata": {},
     "output_type": "execute_result"
    }
   ],
   "source": [
    "x"
   ]
  },
  {
   "cell_type": "code",
   "execution_count": 15,
   "metadata": {},
   "outputs": [
    {
     "data": {
      "text/plain": [
       "<tf.Variable 'Variable_1:0' shape=(120, 5) dtype=float32_ref>"
      ]
     },
     "execution_count": 15,
     "metadata": {},
     "output_type": "execute_result"
    }
   ],
   "source": [
    "#carete n+m matrics\n",
    "\n",
    "n_features=120\n",
    "n_labels=5\n",
    "weights=tf.Variable(tf.truncated_normal((n_features,n_labels)))\n",
    "weights"
   ]
  },
  {
   "cell_type": "code",
   "execution_count": 22,
   "metadata": {},
   "outputs": [
    {
     "name": "stdout",
     "output_type": "stream",
     "text": [
      "[0. 0. 0. 0. 0.]\n",
      "[[ 0.20113194 -0.46161053 -0.58561873 -1.4076552   1.0623499 ]\n",
      " [ 0.70949537 -0.5961059   0.05258918 -0.13979177  0.7000539 ]\n",
      " [-1.3649392  -0.47443676 -1.922741   -0.8669165   0.3245358 ]\n",
      " [-0.20925562 -0.09961927  0.27963415  0.46537474 -0.56016755]\n",
      " [-0.83622706  0.12745239 -0.33337617 -0.14471653 -1.4886092 ]\n",
      " [ 1.2580408   1.4837496  -0.7638802   0.7753872   1.4959813 ]\n",
      " [-0.0803763  -0.56514966  0.88486326 -1.3881264  -0.09773085]\n",
      " [-1.6398239  -0.3296835  -0.5332147   0.9774629   1.121942  ]\n",
      " [-0.12098236  0.03609256 -1.4827664   0.1364121  -0.08194374]\n",
      " [-1.0463462  -1.071506    0.01683138 -0.05853098 -0.75296104]\n",
      " [-0.8527368   0.12735143  0.71797734 -0.7011091  -0.25678545]\n",
      " [ 0.413183   -0.40281677  0.03220648  0.16819416  1.6183097 ]\n",
      " [ 1.3891551   0.32863456  0.8919633   0.22141124  0.63898575]\n",
      " [-0.15086968 -0.5121731  -0.35298717 -0.69993156 -1.190997  ]\n",
      " [-0.31761932  1.4991063  -1.230737    0.08760803 -0.03602149]\n",
      " [ 0.9098732   0.22498581  0.98570734 -0.22397865 -1.0152392 ]\n",
      " [ 0.6002757   0.7030793  -0.02812467  1.0005352   0.59891534]\n",
      " [-1.2082216   0.3814371   0.425963   -0.66322446  0.9503172 ]\n",
      " [ 1.0605084   0.37641844  0.98961    -0.26552796 -0.560267  ]\n",
      " [-0.06929864  0.57040536  1.8377788   1.3964214  -1.3894334 ]\n",
      " [-0.62326086  1.8477358  -1.0200812   0.01277971 -0.19062123]\n",
      " [-0.9549869   0.37540293  0.7965257   0.24128453 -1.0850991 ]\n",
      " [-0.18685533 -1.390624   -1.11104     0.3394737  -0.567086  ]\n",
      " [ 1.3050442  -0.42680806  0.501314    1.0708421   1.7684237 ]\n",
      " [ 0.5867887   0.3938756  -0.98484707 -0.08674547 -1.4176428 ]\n",
      " [ 1.0477462  -0.2172621  -1.35854    -0.14126854 -1.7607491 ]\n",
      " [ 1.9644709   0.88222814  1.0689303  -0.8881249   0.00205147]\n",
      " [-1.3277222  -0.36312085 -1.6496936   1.686874   -1.3229591 ]\n",
      " [-1.275417   -1.1289471   0.33971608  1.340459    0.6489278 ]\n",
      " [ 1.2982458  -0.89913845  0.7787192   1.1890872   1.7604539 ]\n",
      " [-0.90469563  1.733066   -0.8499131  -0.00981566  0.63180935]\n",
      " [-1.2121768  -0.26890433 -0.52776474  0.84112215 -1.5732205 ]\n",
      " [ 0.3442106   0.40019062  0.6914844  -1.5228264  -0.76739776]\n",
      " [-0.19148225 -0.39286214 -1.2552463   1.3586634   0.04060231]\n",
      " [ 1.5441357  -0.544108    0.87907654 -0.12894748 -0.5038818 ]\n",
      " [-0.5083833   0.5341409  -0.4617282   0.70919645 -0.00626355]\n",
      " [-1.5766158   0.09768213  0.28826058  1.452544    0.43218285]\n",
      " [-0.11017647 -0.89936495  1.2398874   0.68131745  0.5263312 ]\n",
      " [ 0.3270775   0.9695158  -0.72104645  1.685353   -0.5855014 ]\n",
      " [ 0.37179592  0.19468428  0.3188603   1.1213452  -1.0701983 ]\n",
      " [-0.02661743 -1.127901   -1.4931008  -0.78598446 -0.79870844]\n",
      " [ 0.9662489   1.4272151  -0.41781634  1.1275913   0.16027692]\n",
      " [ 0.67881304 -0.41154057  0.63433427 -0.9951162   1.8529044 ]\n",
      " [-0.26694965 -0.49203604 -1.7070751  -1.536337    0.5238061 ]\n",
      " [ 0.5967492  -0.37125817  0.08412418  0.30344194 -0.2344749 ]\n",
      " [-0.26405412 -1.1818004  -0.80238354  0.05041206  1.0155382 ]\n",
      " [-0.18739626  1.7171173   0.348729    1.7322636   1.2654157 ]\n",
      " [ 1.1479386   0.32271764 -0.8605052   0.94976145  0.8577979 ]\n",
      " [-0.60544974  0.59528303  0.18957081 -0.8481101  -0.25749013]\n",
      " [-0.98430395 -1.3241179   0.00476134 -0.47273603  1.6009265 ]\n",
      " [ 1.8649604   1.0196376  -1.0125484   0.9356917   1.2105461 ]\n",
      " [-0.4785232  -1.4582089   1.613693   -0.01987585  1.6705273 ]\n",
      " [ 0.7070792  -0.25511023 -1.8915476   0.5548215  -0.48116556]\n",
      " [-0.60339016 -0.44976655  0.33570993 -0.387328    0.5664708 ]\n",
      " [ 0.23744114 -1.120251   -1.8635172   0.21117848  0.24826932]\n",
      " [-1.0748324   1.3183392  -1.3476123  -1.8757942   0.12275628]\n",
      " [-0.3851156  -0.8105611  -0.44435653 -0.46492344  0.4273684 ]\n",
      " [-0.9837459  -1.2424947  -0.1352522   0.4536812  -0.431647  ]\n",
      " [ 0.40348464 -0.19251609 -0.29766834  0.4526372   0.7966942 ]\n",
      " [-0.46356162  0.40038285 -0.27974638  0.79216623 -0.039264  ]\n",
      " [ 0.3071526   0.6015379  -0.9226732  -0.69215155  0.02732476]\n",
      " [-0.02721998  0.81842476  0.56379724  0.5568771   0.12102225]\n",
      " [ 0.20202835 -0.20002455  0.59279495 -1.1747944   0.6470968 ]\n",
      " [-0.36119857  0.47786537  1.6666843   1.3695027   0.2607817 ]\n",
      " [ 1.7542496  -0.4584598   0.72306     0.35961577  0.29375842]\n",
      " [ 1.3841472  -0.32422295  0.6589187   0.5272996  -1.0526147 ]\n",
      " [ 1.4147813   1.9716933   0.15912463 -0.19789188  0.5393205 ]\n",
      " [-0.12918046  0.35013264  1.4678721   1.1906228  -0.10492051]\n",
      " [ 0.15545724 -0.09013783 -1.9524144   0.82857853  0.940578  ]\n",
      " [ 0.92487115 -0.5661213   0.1857077   1.0319016  -1.3640035 ]\n",
      " [-0.3244802  -0.8240616  -0.20699443 -1.2642337  -0.6019423 ]\n",
      " [-0.85186625 -1.0457697  -1.2333466  -0.43055707  0.26204917]\n",
      " [ 0.12527764  0.23131792 -1.2002869   1.3085675   1.0641837 ]\n",
      " [ 0.74088454  0.01195084  0.08876835  0.4390125  -0.44577634]\n",
      " [-1.4090412  -0.28258356  0.16422908 -0.5103997  -1.1989702 ]\n",
      " [ 0.5788955   1.3003262   0.54865354 -0.3048401  -0.32536918]\n",
      " [ 0.2539742   0.41076046 -0.66130644 -1.8851204   0.62588584]\n",
      " [-0.98397195 -1.5638496  -0.124712    0.23628135 -0.28035596]\n",
      " [ 0.0342739   0.79117817 -0.39681295  0.4880607  -0.7817282 ]\n",
      " [-1.0476385   1.3156701   0.9630232  -0.06418458 -0.6116941 ]\n",
      " [-0.29104492  0.75433546 -0.5694042   0.40905145  0.43679753]\n",
      " [ 0.6213084  -0.49008906  0.18903081 -0.63433534 -0.03871845]\n",
      " [-0.15435614  0.38459107 -0.8457234  -0.54679203  1.2594885 ]\n",
      " [ 0.95846874 -0.34811205  1.1654834   0.2672142  -0.57723206]\n",
      " [ 1.6590877   1.3544681   0.75840825 -0.33071494 -0.82029206]\n",
      " [-0.03226031  0.77876264 -1.8967221  -0.19669272 -0.7591546 ]\n",
      " [-0.40658668 -0.17671408 -0.28093413  0.77389926  0.07123223]\n",
      " [ 1.1042161  -0.34676927 -0.48046955  0.5840916   1.1523092 ]\n",
      " [ 1.6009908  -0.6558793  -0.86495185 -0.86586976  0.14058712]\n",
      " [ 1.072531   -1.1951529  -1.3049002   0.8711454  -0.39876842]\n",
      " [ 1.4179296   0.9294499   0.48595008 -0.06204657  1.3222972 ]\n",
      " [-1.4290186  -1.6168089  -0.2399884  -1.6497285   1.3572168 ]\n",
      " [ 0.33244348  0.92299044  0.19858351 -0.826914    0.11010238]\n",
      " [-1.0175308   1.0621749   0.4414118  -0.7114366   1.1186237 ]\n",
      " [-1.7784156  -1.0993428   1.3326119  -1.9437594  -0.02713097]\n",
      " [-0.27774513 -0.41443765  0.2557545  -1.5588474   0.6806922 ]\n",
      " [ 1.9949448  -1.3903785   0.15028408 -0.73180854  0.66539717]\n",
      " [ 0.01184853 -0.7710917  -1.3156329   0.03603907 -0.01346696]\n",
      " [ 0.632416    0.09504489  0.06400988  1.3689969  -1.2739036 ]\n",
      " [-0.10983939  0.20269643  0.07499138 -1.1958437  -0.87185156]\n",
      " [-1.3001226   1.4196178   0.8962415   1.2403778  -0.78006417]\n",
      " [ 0.03734276 -0.50579906  0.04888813 -0.71834624 -0.9905316 ]\n",
      " [-0.34574404  0.08604944  1.0987183  -0.64574265 -0.3384881 ]\n",
      " [-0.89378184 -1.2792572   1.0566627   1.0244008   0.39512858]\n",
      " [ 1.3444934   0.26322415  0.1325389  -0.34261322 -0.9690548 ]\n",
      " [-1.1907573  -1.0159521  -0.58712476 -1.6716405   0.2097361 ]\n",
      " [-0.03958691 -0.15738893 -0.12234801  1.139705   -0.6408421 ]\n",
      " [-1.8192773  -0.8472429  -1.3261886   0.17513198 -1.0348734 ]\n",
      " [ 1.4755628   0.69257486 -0.69383615 -1.9664315  -0.56716   ]\n",
      " [-0.25424474 -0.36018538 -1.0160002   1.225284    1.0293643 ]\n",
      " [-1.0813192  -0.5388964  -1.4480985  -0.13733223 -0.32490778]\n",
      " [ 0.1829933   1.6331626   1.3873986   0.35519806  1.1781003 ]\n",
      " [ 0.4499812   0.5268007   0.41863647  0.64815146 -0.21751006]\n",
      " [ 0.9199887   0.70948094  0.6624908   0.77490926  1.0658152 ]\n",
      " [ 0.45486796 -1.8009335  -0.4756775   0.47755507  1.2035251 ]\n",
      " [ 1.2362126  -0.2876484  -0.978177    1.5810828  -0.26947713]\n",
      " [-1.3129035   0.0191908   1.2578495   1.2622002   0.8051933 ]\n",
      " [ 0.56925106 -0.98625237 -1.1622611  -0.8607048   0.63245136]\n",
      " [ 0.49375972 -0.80310494 -0.13895996  0.6026018  -1.3848695 ]\n",
      " [ 0.3508037  -0.74467677  1.331272   -0.98045474 -0.6383967 ]]\n"
     ]
    }
   ],
   "source": [
    "biases=tf.Variable(tf.zeros(n_labels))\n",
    "init=tf.global_variables_initializer()\n",
    "\n",
    "with tf.Session() as sess:\n",
    "    sess.run(init) #this is important to run this code\n",
    "    \n",
    "    b=sess.run(biases)\n",
    "    w=sess.run(weights)\n",
    "    print(b)\n",
    "    print(w)"
   ]
  },
  {
   "cell_type": "code",
   "execution_count": 25,
   "metadata": {},
   "outputs": [],
   "source": [
    "xx=tf.nn.softmax([2.0, 1.0, 0.2])"
   ]
  },
  {
   "cell_type": "code",
   "execution_count": 28,
   "metadata": {},
   "outputs": [
    {
     "name": "stdout",
     "output_type": "stream",
     "text": [
      "[0.         0.33333334 0.33333334 0.         0.33333334 0.        ]\n"
     ]
    }
   ],
   "source": [
    "def run_3():\n",
    "    \n",
    "    logit_data=[19,354,354,45,354,54]\n",
    "    logits=tf.placeholder(tf.float32)\n",
    "    \n",
    "    #calcuilate softmnax\n",
    "    output_softmax=tf.nn.softmax(logits)\n",
    "    \n",
    "    #session and run\n",
    "    \n",
    "    with tf.Session() as sess:\n",
    "        output=sess.run(output_softmax,feed_dict={logits:logit_data})\n",
    "    return output\n",
    "\n",
    "\n",
    "\n",
    "print(run_3())"
   ]
  },
  {
   "cell_type": "code",
   "execution_count": 33,
   "metadata": {},
   "outputs": [
    {
     "name": "stdout",
     "output_type": "stream",
     "text": [
      "15\n"
     ]
    }
   ],
   "source": [
    "x = tf.reduce_sum([1, 2, 3, 4, 5])  # 15\n",
    "with tf.Session() as sess:\n",
    "        print(sess.run(x))"
   ]
  },
  {
   "cell_type": "code",
   "execution_count": 34,
   "metadata": {},
   "outputs": [],
   "source": [
    "#Print the cross entropy using softmax_data and one_hot_encod_label."
   ]
  },
  {
   "cell_type": "code",
   "execution_count": 41,
   "metadata": {},
   "outputs": [
    {
     "name": "stdout",
     "output_type": "stream",
     "text": [
      "0.35667497\n"
     ]
    }
   ],
   "source": [
    "softmax_data = [0.7, 0.2, 0.1]\n",
    "one_hot_data = [1.0, 0.0, 0.0]\n",
    "\n",
    "\n",
    "softmax = tf.placeholder(tf.float32)\n",
    "one_hot = tf.placeholder(tf.float32)\n",
    "\n",
    "#print cross entropy in session\n",
    "\n",
    "cross_entropy = -tf.reduce_sum(tf.multiply(one_hot,tf.log(softmax)))\n",
    "\n",
    "\n",
    "with tf.Session() as sess:\n",
    "    output=sess.run(cross_entropy,feed_dict={one_hot:one_hot_data,softmax:softmax_data})\n",
    "print(output)"
   ]
  },
  {
   "cell_type": "code",
   "execution_count": null,
   "metadata": {},
   "outputs": [],
   "source": []
  }
 ],
 "metadata": {
  "kernelspec": {
   "display_name": "Python 3",
   "language": "python",
   "name": "python3"
  },
  "language_info": {
   "codemirror_mode": {
    "name": "ipython",
    "version": 3
   },
   "file_extension": ".py",
   "mimetype": "text/x-python",
   "name": "python",
   "nbconvert_exporter": "python",
   "pygments_lexer": "ipython3",
   "version": "3.6.9"
  }
 },
 "nbformat": 4,
 "nbformat_minor": 2
}
