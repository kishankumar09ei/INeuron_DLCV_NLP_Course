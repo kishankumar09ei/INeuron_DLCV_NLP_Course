{
 "cells": [
  {
   "cell_type": "code",
   "execution_count": 1,
   "metadata": {},
   "outputs": [
    {
     "name": "stderr",
     "output_type": "stream",
     "text": [
      "C:\\Users\\Kishan\\Anaconda3\\lib\\site-packages\\statsmodels\\tools\\_testing.py:19: FutureWarning: pandas.util.testing is deprecated. Use the functions in the public API at pandas.testing instead.\n",
      "  import pandas.util.testing as tm\n"
     ]
    }
   ],
   "source": [
    "%matplotlib inline\n",
    "import numpy as np\n",
    "import pandas as pd\n",
    "import matplotlib.pyplot as plt\n",
    "import seaborn as sns\n",
    "sns.set()\n",
    "from scipy import optimize\n",
    "from ipywidgets import *\n",
    "from IPython.display import SVG\n",
    "from sklearn import datasets"
   ]
  },
  {
   "cell_type": "code",
   "execution_count": 55,
   "metadata": {},
   "outputs": [
    {
     "data": {
      "text/html": [
       "<div>\n",
       "<style scoped>\n",
       "    .dataframe tbody tr th:only-of-type {\n",
       "        vertical-align: middle;\n",
       "    }\n",
       "\n",
       "    .dataframe tbody tr th {\n",
       "        vertical-align: top;\n",
       "    }\n",
       "\n",
       "    .dataframe thead th {\n",
       "        text-align: right;\n",
       "    }\n",
       "</style>\n",
       "<table border=\"1\" class=\"dataframe\">\n",
       "  <thead>\n",
       "    <tr style=\"text-align: right;\">\n",
       "      <th></th>\n",
       "      <th>x1</th>\n",
       "      <th>x2</th>\n",
       "      <th>y</th>\n",
       "    </tr>\n",
       "  </thead>\n",
       "  <tbody>\n",
       "    <tr>\n",
       "      <th>0</th>\n",
       "      <td>0</td>\n",
       "      <td>0</td>\n",
       "      <td>0</td>\n",
       "    </tr>\n",
       "    <tr>\n",
       "      <th>1</th>\n",
       "      <td>0</td>\n",
       "      <td>1</td>\n",
       "      <td>0</td>\n",
       "    </tr>\n",
       "    <tr>\n",
       "      <th>2</th>\n",
       "      <td>1</td>\n",
       "      <td>0</td>\n",
       "      <td>0</td>\n",
       "    </tr>\n",
       "    <tr>\n",
       "      <th>3</th>\n",
       "      <td>1</td>\n",
       "      <td>1</td>\n",
       "      <td>1</td>\n",
       "    </tr>\n",
       "  </tbody>\n",
       "</table>\n",
       "</div>"
      ],
      "text/plain": [
       "   x1  x2  y\n",
       "0   0   0  0\n",
       "1   0   1  0\n",
       "2   1   0  0\n",
       "3   1   1  1"
      ]
     },
     "execution_count": 55,
     "metadata": {},
     "output_type": "execute_result"
    }
   ],
   "source": [
    "AND = pd.DataFrame({'x1': (0,0,1,1), 'x2': (0,1,0,1), 'y': (0,0,0,1)})\n",
    "AND"
   ]
  },
  {
   "cell_type": "code",
   "execution_count": 56,
   "metadata": {},
   "outputs": [
    {
     "data": {
      "text/plain": [
       "array([-7.63136003e-05,  6.03245111e-05,  4.62276575e-05])"
      ]
     },
     "execution_count": 56,
     "metadata": {},
     "output_type": "execute_result"
    }
   ],
   "source": [
    "w=np.random.randn(3)*1e-4\n",
    "w"
   ]
  },
  {
   "cell_type": "code",
   "execution_count": 57,
   "metadata": {},
   "outputs": [],
   "source": [
    "g= lambda inputs,weight : np.where(np.dot(inputs,weight)>0,1,0)"
   ]
  },
  {
   "cell_type": "code",
   "execution_count": 58,
   "metadata": {},
   "outputs": [],
   "source": [
    "inputs=AND[['x1','x2']]\n",
    "targets=AND[\"y\"]"
   ]
  },
  {
   "cell_type": "code",
   "execution_count": 59,
   "metadata": {},
   "outputs": [
    {
     "data": {
      "text/plain": [
       "(4,)"
      ]
     },
     "execution_count": 59,
     "metadata": {},
     "output_type": "execute_result"
    }
   ],
   "source": [
    "activation=g(np.c_[inputs,-np.ones((len(inputs),1))],w)\n",
    "activation.shape\n",
    "targets.shape"
   ]
  },
  {
   "cell_type": "code",
   "execution_count": 60,
   "metadata": {},
   "outputs": [
    {
     "data": {
      "text/plain": [
       "(3,)"
      ]
     },
     "execution_count": 60,
     "metadata": {},
     "output_type": "execute_result"
    }
   ],
   "source": [
    "input1=np.c_[inputs,-np.ones((len(inputs),1))]\n",
    "input1.shape\n",
    "w.T.shape"
   ]
  },
  {
   "cell_type": "code",
   "execution_count": 67,
   "metadata": {},
   "outputs": [],
   "source": [
    "#Training Function\n",
    "\n",
    "def train(inputs, targets, weights, lr, n_iterations):\n",
    "      # Add the inputs that match the bias node\n",
    "        inputs=np.c_[inputs,-np.ones((len(inputs),1))]#np,c_ is like np.hstack\n",
    "        \n",
    "        for n in range(n_iterations):\n",
    "            print(f\"iteration {n}\")\n",
    "            print(inputs)\n",
    "            activation=g(inputs,weights)\n",
    "            print(f\"output: {activation}\")\n",
    "            weights -= lr * np.dot(np.transpose(inputs),activation-targets)\n",
    "            print(weights)\n",
    "        return weights\n",
    "            "
   ]
  },
  {
   "cell_type": "code",
   "execution_count": 68,
   "metadata": {},
   "outputs": [
    {
     "name": "stdout",
     "output_type": "stream",
     "text": [
      "iteration 0\n",
      "[[ 1.  1. -1.]\n",
      " [ 2.  2. -1.]\n",
      " [ 3.  3. -1.]\n",
      " [ 4.  5. -1.]]\n",
      "output: [1 1 1 1]\n",
      "[-0.00207631 -0.00393968  0.00304623]\n",
      "iteration 1\n",
      "[[ 1.  1. -1.]\n",
      " [ 2.  2. -1.]\n",
      " [ 3.  3. -1.]\n",
      " [ 4.  5. -1.]]\n",
      "output: [0 0 0 0]\n",
      "[3.92368640e-03 2.06032451e-03 4.62276575e-05]\n",
      "iteration 2\n",
      "[[ 1.  1. -1.]\n",
      " [ 2.  2. -1.]\n",
      " [ 3.  3. -1.]\n",
      " [ 4.  5. -1.]]\n",
      "output: [1 1 1 1]\n",
      "[-7.63136003e-05 -2.93967549e-03  1.04622766e-03]\n",
      "iteration 3\n",
      "[[ 1.  1. -1.]\n",
      " [ 2.  2. -1.]\n",
      " [ 3.  3. -1.]\n",
      " [ 4.  5. -1.]]\n",
      "output: [0 0 0 0]\n",
      "[ 0.00592369  0.00306032 -0.00195377]\n",
      "iteration 4\n",
      "[[ 1.  1. -1.]\n",
      " [ 2.  2. -1.]\n",
      " [ 3.  3. -1.]\n",
      " [ 4.  5. -1.]]\n",
      "output: [1 1 1 1]\n",
      "[ 0.00192369 -0.00193968 -0.00095377]\n",
      "iteration 5\n",
      "[[ 1.  1. -1.]\n",
      " [ 2.  2. -1.]\n",
      " [ 3.  3. -1.]\n",
      " [ 4.  5. -1.]]\n",
      "output: [1 1 1 0]\n",
      "[ 0.00192369 -0.00193968 -0.00095377]\n",
      "iteration 6\n",
      "[[ 1.  1. -1.]\n",
      " [ 2.  2. -1.]\n",
      " [ 3.  3. -1.]\n",
      " [ 4.  5. -1.]]\n",
      "output: [1 1 1 0]\n",
      "[ 0.00192369 -0.00193968 -0.00095377]\n",
      "iteration 7\n",
      "[[ 1.  1. -1.]\n",
      " [ 2.  2. -1.]\n",
      " [ 3.  3. -1.]\n",
      " [ 4.  5. -1.]]\n",
      "output: [1 1 1 0]\n",
      "[ 0.00192369 -0.00193968 -0.00095377]\n",
      "iteration 8\n",
      "[[ 1.  1. -1.]\n",
      " [ 2.  2. -1.]\n",
      " [ 3.  3. -1.]\n",
      " [ 4.  5. -1.]]\n",
      "output: [1 1 1 0]\n",
      "[ 0.00192369 -0.00193968 -0.00095377]\n",
      "iteration 9\n",
      "[[ 1.  1. -1.]\n",
      " [ 2.  2. -1.]\n",
      " [ 3.  3. -1.]\n",
      " [ 4.  5. -1.]]\n",
      "output: [1 1 1 0]\n",
      "[ 0.00192369 -0.00193968 -0.00095377]\n"
     ]
    },
    {
     "data": {
      "text/plain": [
       "array([ 0.00192369, -0.00193968, -0.00095377])"
      ]
     },
     "execution_count": 68,
     "metadata": {},
     "output_type": "execute_result"
    }
   ],
   "source": [
    "train(inputs,targets,w,0.001,10)"
   ]
  },
  {
   "cell_type": "code",
   "execution_count": 65,
   "metadata": {},
   "outputs": [
    {
     "data": {
      "text/html": [
       "<div>\n",
       "<style scoped>\n",
       "    .dataframe tbody tr th:only-of-type {\n",
       "        vertical-align: middle;\n",
       "    }\n",
       "\n",
       "    .dataframe tbody tr th {\n",
       "        vertical-align: top;\n",
       "    }\n",
       "\n",
       "    .dataframe thead th {\n",
       "        text-align: right;\n",
       "    }\n",
       "</style>\n",
       "<table border=\"1\" class=\"dataframe\">\n",
       "  <thead>\n",
       "    <tr style=\"text-align: right;\">\n",
       "      <th></th>\n",
       "      <th>x1</th>\n",
       "      <th>x2</th>\n",
       "      <th>y</th>\n",
       "    </tr>\n",
       "  </thead>\n",
       "  <tbody>\n",
       "    <tr>\n",
       "      <th>0</th>\n",
       "      <td>1</td>\n",
       "      <td>1</td>\n",
       "      <td>1</td>\n",
       "    </tr>\n",
       "    <tr>\n",
       "      <th>1</th>\n",
       "      <td>2</td>\n",
       "      <td>2</td>\n",
       "      <td>1</td>\n",
       "    </tr>\n",
       "    <tr>\n",
       "      <th>2</th>\n",
       "      <td>3</td>\n",
       "      <td>3</td>\n",
       "      <td>1</td>\n",
       "    </tr>\n",
       "    <tr>\n",
       "      <th>3</th>\n",
       "      <td>4</td>\n",
       "      <td>5</td>\n",
       "      <td>0</td>\n",
       "    </tr>\n",
       "  </tbody>\n",
       "</table>\n",
       "</div>"
      ],
      "text/plain": [
       "   x1  x2  y\n",
       "0   1   1  1\n",
       "1   2   2  1\n",
       "2   3   3  1\n",
       "3   4   5  0"
      ]
     },
     "execution_count": 65,
     "metadata": {},
     "output_type": "execute_result"
    }
   ],
   "source": [
    "data = pd.DataFrame({'x1': (1,2,3,4), 'x2': (1,2,3,5), 'y': (1,1,1,0)})\n",
    "data"
   ]
  },
  {
   "cell_type": "code",
   "execution_count": 66,
   "metadata": {},
   "outputs": [],
   "source": [
    "inputs=data[['x1','x2']]\n",
    "targets=data[\"y\"]"
   ]
  },
  {
   "cell_type": "code",
   "execution_count": null,
   "metadata": {},
   "outputs": [],
   "source": []
  }
 ],
 "metadata": {
  "kernelspec": {
   "display_name": "Python 3",
   "language": "python",
   "name": "python3"
  },
  "language_info": {
   "codemirror_mode": {
    "name": "ipython",
    "version": 3
   },
   "file_extension": ".py",
   "mimetype": "text/x-python",
   "name": "python",
   "nbconvert_exporter": "python",
   "pygments_lexer": "ipython3",
   "version": "3.7.3"
  }
 },
 "nbformat": 4,
 "nbformat_minor": 2
}
